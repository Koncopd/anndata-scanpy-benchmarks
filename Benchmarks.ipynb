{
 "cells": [
  {
   "cell_type": "code",
   "execution_count": 1,
   "metadata": {},
   "outputs": [
    {
     "name": "stderr",
     "output_type": "stream",
     "text": [
      "/u/halle/rybakov/home_at/miniconda3/envs/work/lib/python3.6/site-packages/h5py/__init__.py:36: FutureWarning: Conversion of the second argument of issubdtype from `float` to `np.floating` is deprecated. In future, it will be treated as `np.float64 == np.dtype(float).type`.\n",
      "  from ._conv import register_converters as _register_converters\n"
     ]
    }
   ],
   "source": [
    "from anndata import AnnData\n",
    "import scanpy.api as sc\n",
    "\n",
    "import matplotlib.pyplot as plt\n",
    "import numpy as np\n",
    "import scipy as sp\n",
    "import scipy.sparse\n",
    "import os\n",
    "\n",
    "import utils as u"
   ]
  },
  {
   "cell_type": "code",
   "execution_count": 2,
   "metadata": {},
   "outputs": [],
   "source": [
    "%load_ext memory_profiler\n",
    "%matplotlib inline"
   ]
  },
  {
   "cell_type": "code",
   "execution_count": 4,
   "metadata": {},
   "outputs": [
    {
     "name": "stdout",
     "output_type": "stream",
     "text": [
      "~ 1220 MiB\n"
     ]
    }
   ],
   "source": [
    "A = np.random.rand(80000, 2000)\n",
    "A[A<0.7]=0\n",
    "\n",
    "size = int(A.nbytes/2**20)\n",
    "print('~', size, 'MiB')"
   ]
  },
  {
   "cell_type": "code",
   "execution_count": 5,
   "metadata": {},
   "outputs": [],
   "source": [
    "AD_dense = AnnData(A)"
   ]
  },
  {
   "cell_type": "code",
   "execution_count": 6,
   "metadata": {},
   "outputs": [
    {
     "name": "stdout",
     "output_type": "stream",
     "text": [
      "~ 549 MiB\n"
     ]
    }
   ],
   "source": [
    "A = sp.sparse.csr_matrix(A)\n",
    "\n",
    "size_sparse=int((A.data.nbytes + A.indptr.nbytes + A.indices.nbytes)/2**20)\n",
    "print('~', size_sparse, 'MiB')"
   ]
  },
  {
   "cell_type": "code",
   "execution_count": 7,
   "metadata": {},
   "outputs": [],
   "source": [
    "AD_sparse = AnnData(A)"
   ]
  },
  {
   "cell_type": "code",
   "execution_count": 8,
   "metadata": {},
   "outputs": [
    {
     "data": {
      "image/png": "[encoded data removed]",
      "text/plain": [
       "<Figure size 576x504 with 1 Axes>"
      ]
     },
     "metadata": {},
     "output_type": "display_data"
    }
   ],
   "source": [
    "u.simple_bar(('Dense Matrix', 'CSR Matrix'), 'Memory, MiB', 'Memory usage', (size, size_sparse))"
   ]
  },
  {
   "cell_type": "markdown",
   "metadata": {},
   "source": [
    "Use PCA to test as it uses chunks"
   ]
  },
  {
   "cell_type": "code",
   "execution_count": 12,
   "metadata": {},
   "outputs": [],
   "source": [
    "timeit_dense = []\n",
    "timeit_sparse = []"
   ]
  },
  {
   "cell_type": "code",
   "execution_count": 13,
   "metadata": {},
   "outputs": [
    {
     "name": "stdout",
     "output_type": "stream",
     "text": [
      "3.06 s ± 68.1 ms per loop (mean ± std. dev. of 3 runs, 1 loop each)\n",
      "41.6 s ± 1.82 s per loop (mean ± std. dev. of 3 runs, 1 loop each)\n"
     ]
    }
   ],
   "source": [
    "result = %timeit -o -r 3 -n 1 sc.pp.pca(AD_dense, 50)\n",
    "timeit_dense.append(result.average)\n",
    "\n",
    "result = %timeit -o -r 3 -n 1 sc.pp.pca(AD_dense, 50, chunked=True)\n",
    "timeit_dense.append(result.average)"
   ]
  },
  {
   "cell_type": "code",
   "execution_count": 14,
   "metadata": {},
   "outputs": [
    {
     "name": "stdout",
     "output_type": "stream",
     "text": [
      "3.22 s ± 34.7 ms per loop (mean ± std. dev. of 3 runs, 1 loop each)\n",
      "41.5 s ± 1.03 s per loop (mean ± std. dev. of 3 runs, 1 loop each)\n"
     ]
    }
   ],
   "source": [
    "result = %timeit -o -r 3 -n 1 sc.pp.pca(AD_sparse, 50)\n",
    "timeit_sparse.append(result.average)\n",
    "\n",
    "result = %timeit -o -r 3 -n 1 sc.pp.pca(AD_sparse, 50, chunked=True)\n",
    "timeit_sparse.append(result.average)"
   ]
  },
  {
   "cell_type": "code",
   "execution_count": 15,
   "metadata": {},
   "outputs": [
    {
     "data": {
      "image/png": "[encoded data removed]",
      "text/plain": [
       "<Figure size 432x288 with 1 Axes>"
      ]
     },
     "metadata": {},
     "output_type": "display_data"
    }
   ],
   "source": [
    "u.plot_groups(('In-Memory Full', 'In-Memory Chunked'), timeit_dense[:2], timeit_sparse[:2], 'Mode', 'Seconds', 'PCA runtime')"
   ]
  },
  {
   "cell_type": "code",
   "execution_count": 16,
   "metadata": {},
   "outputs": [],
   "source": [
    "memit_dense = []\n",
    "memit_sparse = []"
   ]
  },
  {
   "cell_type": "code",
   "execution_count": 17,
   "metadata": {},
   "outputs": [
    {
     "name": "stdout",
     "output_type": "stream",
     "text": [
      "peak memory: 3116.64 MiB, increment: 1221.49 MiB\n",
      "peak memory: 2364.40 MiB, increment: 453.34 MiB\n"
     ]
    }
   ],
   "source": [
    "result = %memit -o sc.pp.pca(AD_dense, 50)\n",
    "memit_dense.append(max(result.mem_usage)-result.baseline)\n",
    "\n",
    "result = %memit -o sc.pp.pca(AD_dense, 50, chunked=True)\n",
    "memit_dense.append(max(result.mem_usage)-result.baseline)"
   ]
  },
  {
   "cell_type": "code",
   "execution_count": 18,
   "metadata": {},
   "outputs": [
    {
     "name": "stdout",
     "output_type": "stream",
     "text": [
      "peak memory: 3763.75 MiB, increment: 1867.59 MiB\n",
      "peak memory: 2397.74 MiB, increment: 528.88 MiB\n"
     ]
    }
   ],
   "source": [
    "result = %memit -o sc.pp.pca(AD_sparse, 50)\n",
    "memit_sparse.append(max(result.mem_usage)-result.baseline)\n",
    "\n",
    "result = %memit -o sc.pp.pca(AD_sparse, 50, chunked=True)\n",
    "memit_sparse.append(max(result.mem_usage)-result.baseline)"
   ]
  },
  {
   "cell_type": "code",
   "execution_count": 19,
   "metadata": {},
   "outputs": [
    {
     "data": {
      "image/png": "[encoded data removed]",
      "text/plain": [
       "<Figure size 432x288 with 1 Axes>"
      ]
     },
     "metadata": {},
     "output_type": "display_data"
    }
   ],
   "source": [
    "u.plot_groups(('In-Memory Full', 'In-Memory Chunked'), memit_dense, memit_sparse, 'Mode', 'MiB', 'PCA memory usage')"
   ]
  },
  {
   "cell_type": "code",
   "execution_count": 16,
   "metadata": {},
   "outputs": [
    {
     "name": "stdout",
     "output_type": "stream",
     "text": [
      "\n"
     ]
    }
   ],
   "source": [
    "%mprun -f sc.pp.pca sc.pp.pca(AD_sparse, 50)\n",
    "#Differs from memit for some reason"
   ]
  },
  {
   "cell_type": "code",
   "execution_count": 20,
   "metadata": {},
   "outputs": [],
   "source": [
    "AD_dense_back = AnnData(AD_dense.X)\n",
    "AD_dense_back.filename = './dense.h5ad'\n",
    "\n",
    "AD_sparse_back = AnnData(AD_sparse.X)\n",
    "AD_sparse_back.filename = './sparse.h5ad'"
   ]
  },
  {
   "cell_type": "code",
   "execution_count": 21,
   "metadata": {},
   "outputs": [],
   "source": [
    "f_sz_dense = int(os.path.getsize('./dense.h5ad')/10**6)\n",
    "f_sz_sparse = int(os.path.getsize('./sparse.h5ad')/10**6)"
   ]
  },
  {
   "cell_type": "code",
   "execution_count": 22,
   "metadata": {},
   "outputs": [
    {
     "data": {
      "image/png": "[encoded data removed]",
      "text/plain": [
       "<Figure size 576x504 with 1 Axes>"
      ]
     },
     "metadata": {},
     "output_type": "display_data"
    }
   ],
   "source": [
    "u.simple_bar(('Dense File', 'Sparse File'), 'Disk space, MB', 'Disk space usage', (f_sz_dense, f_sz_sparse))"
   ]
  },
  {
   "cell_type": "code",
   "execution_count": 23,
   "metadata": {},
   "outputs": [
    {
     "name": "stdout",
     "output_type": "stream",
     "text": [
      "5.87 s ± 391 ms per loop (mean ± std. dev. of 3 runs, 1 loop each)\n"
     ]
    }
   ],
   "source": [
    "result = %timeit -o -r 3 -n 1 sc.pp.pca(AD_dense_back, 50)\n",
    "timeit_dense.append(result.average)\n",
    "\n",
    "timeit_sparse.append(0)"
   ]
  },
  {
   "cell_type": "code",
   "execution_count": 24,
   "metadata": {},
   "outputs": [
    {
     "name": "stdout",
     "output_type": "stream",
     "text": [
      "45.8 s ± 283 ms per loop (mean ± std. dev. of 3 runs, 1 loop each)\n",
      "1min 38s ± 1.85 s per loop (mean ± std. dev. of 3 runs, 1 loop each)\n"
     ]
    }
   ],
   "source": [
    "result = %timeit -o -r 3 -n 1 sc.pp.pca(AD_dense_back, 50, chunked=True)\n",
    "timeit_dense.append(result.average)\n",
    "\n",
    "result = %timeit -o -r 3 -n 1 sc.pp.pca(AD_sparse_back, 50, chunked=True)\n",
    "timeit_sparse.append(result.average)"
   ]
  },
  {
   "cell_type": "code",
   "execution_count": 25,
   "metadata": {},
   "outputs": [
    {
     "data": {
      "image/png": "[encoded data removed]",
      "text/plain": [
       "<Figure size 432x288 with 1 Axes>"
      ]
     },
     "metadata": {},
     "output_type": "display_data"
    }
   ],
   "source": [
    "groups = ('In-Memory Full', 'In-Memory Chunked', 'Backed Full', 'Backed Chunked')\n",
    "u.plot_groups(groups, timeit_dense, timeit_sparse, 'Mode', 'Seconds', 'PCA runtime')"
   ]
  },
  {
   "cell_type": "code",
   "execution_count": 26,
   "metadata": {},
   "outputs": [],
   "source": [
    "AD_sparse_csc = AnnData(AD_sparse.X.tocsc())"
   ]
  },
  {
   "cell_type": "markdown",
   "metadata": {},
   "source": [
    "The problem is in looping through rows"
   ]
  },
  {
   "cell_type": "code",
   "execution_count": 27,
   "metadata": {},
   "outputs": [
    {
     "name": "stdout",
     "output_type": "stream",
     "text": [
      "15.8 µs ± 5.5 µs per loop (mean ± std. dev. of 3 runs, 1 loop each)\n",
      "174 ms ± 8.53 ms per loop (mean ± std. dev. of 3 runs, 1 loop each)\n",
      "769 ms ± 7.37 ms per loop (mean ± std. dev. of 3 runs, 1 loop each)\n",
      "2.91 s ± 18.6 ms per loop (mean ± std. dev. of 3 runs, 1 loop each)\n",
      "28.8 s ± 380 ms per loop (mean ± std. dev. of 3 runs, 1 loop each)\n"
     ]
    }
   ],
   "source": [
    "chunks_time = []\n",
    "\n",
    "result = %timeit -o -r 3 -n 1 for _, _, _ in AD_dense.chunked_X(): pass\n",
    "chunks_time.append(result.average)\n",
    "result = %timeit -o -r 3 -n 1 for _, _, _ in AD_sparse.chunked_X(): pass\n",
    "chunks_time.append(result.average)\n",
    "result = %timeit -o -r 3 -n 1 for _, _, _ in AD_sparse_csc.chunked_X(): pass\n",
    "chunks_time.append(result.average)\n",
    "result = %timeit -o -r 3 -n 1 for _, _, _ in AD_dense_back.chunked_X(): pass\n",
    "chunks_time.append(result.average)\n",
    "result = %timeit -o -r 3 -n 1 for _, _, _ in AD_sparse_back.chunked_X(): pass\n",
    "chunks_time.append(result.average)"
   ]
  },
  {
   "cell_type": "code",
   "execution_count": 28,
   "metadata": {
    "scrolled": true
   },
   "outputs": [
    {
     "data": {
      "image/png": "[encoded data removed]",
      "text/plain": [
       "<Figure size 576x504 with 1 Axes>"
      ]
     },
     "metadata": {},
     "output_type": "display_data"
    }
   ],
   "source": [
    "labels = ('In-Memory Dense', 'In-Memory CSR', 'In-Memory CSC', 'Backed Dense', 'Backed Sparse')\n",
    "u.simple_bar(labels, 'Seconds', 'Time to loop through all chunks', chunks_time)"
   ]
  },
  {
   "cell_type": "code",
   "execution_count": 29,
   "metadata": {},
   "outputs": [
    {
     "name": "stdout",
     "output_type": "stream",
     "text": [
      "peak memory: 2868.31 MiB, increment: 437.59 MiB\n",
      "peak memory: 2907.12 MiB, increment: 520.58 MiB\n"
     ]
    }
   ],
   "source": [
    "%memit sc.pp.pca(AD_dense_back, 50, chunked=True)\n",
    "%memit sc.pp.pca(AD_sparse_back, 50, chunked=True)"
   ]
  },
  {
   "cell_type": "code",
   "execution_count": null,
   "metadata": {},
   "outputs": [],
   "source": []
  }
 ],
 "metadata": {
  "kernelspec": {
   "display_name": "Python 3",
   "language": "python",
   "name": "python3"
  },
  "language_info": {
   "codemirror_mode": {
    "name": "ipython",
    "version": 3
   },
   "file_extension": ".py",
   "mimetype": "text/x-python",
   "name": "python",
   "nbconvert_exporter": "python",
   "pygments_lexer": "ipython3",
   "version": "3.6.5"
  }
 },
 "nbformat": 4,
 "nbformat_minor": 2
}
