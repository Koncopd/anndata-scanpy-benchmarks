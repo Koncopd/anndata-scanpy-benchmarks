{
 "cells": [
  {
   "cell_type": "code",
   "execution_count": 1,
   "metadata": {},
   "outputs": [],
   "source": [
    "import numpy as np\n",
    "import scipy as sp\n",
    "import scipy.sparse\n",
    "import loompy as lp\n",
    "\n",
    "from anndata import AnnData, read_h5ad"
   ]
  },
  {
   "cell_type": "code",
   "execution_count": 2,
   "metadata": {},
   "outputs": [],
   "source": [
    "%load_ext memory_profiler"
   ]
  },
  {
   "cell_type": "code",
   "execution_count": 3,
   "metadata": {},
   "outputs": [],
   "source": [
    "A = np.random.rand(20000, 5000)\n",
    "A[A<0.7]=0\n",
    "A = sp.sparse.csr_matrix(A)"
   ]
  },
  {
   "cell_type": "code",
   "execution_count": 4,
   "metadata": {},
   "outputs": [
    {
     "name": "stdout",
     "output_type": "stream",
     "text": [
      "peak memory: 869.43 MiB, increment: 197.25 MiB\n"
     ]
    }
   ],
   "source": [
    "ad = AnnData(A)\n",
    "%memit ad.write('sparse.h5ad')"
   ]
  },
  {
   "cell_type": "code",
   "execution_count": 5,
   "metadata": {},
   "outputs": [
    {
     "name": "stdout",
     "output_type": "stream",
     "text": [
      "Converting to csc format\n",
      "peak memory: 1222.94 MiB, increment: 541.86 MiB\n"
     ]
    }
   ],
   "source": [
    "%memit lp.create(\"sparse.loom\", A.transpose(),{},{})\n",
    "ds = lp.connect(\"sparse.loom\")"
   ]
  },
  {
   "cell_type": "markdown",
   "metadata": {},
   "source": [
    "sparse_old.h5ad - file with SparseDataset of the same size"
   ]
  },
  {
   "cell_type": "code",
   "execution_count": 16,
   "metadata": {},
   "outputs": [
    {
     "name": "stdout",
     "output_type": "stream",
     "text": [
      "peak memory: 2734.79 MiB, increment: 1117.42 MiB\n",
      "peak memory: 1524.50 MiB, increment: 435.57 MiB\n",
      "peak memory: 1749.10 MiB, increment: 470.64 MiB\n"
     ]
    }
   ],
   "source": [
    "%memit ds.layers[\"\"].sparse()\n",
    "\n",
    "%memit t = read_h5ad('sparse.h5ad')\n",
    "\n",
    "%memit p = read_h5ad('sparse_old.h5ad')"
   ]
  },
  {
   "cell_type": "code",
   "execution_count": 3,
   "metadata": {},
   "outputs": [
    {
     "name": "stdout",
     "output_type": "stream",
     "text": [
      "6.19 s ± 42.7 ms per loop (mean ± std. dev. of 7 runs, 1 loop each)\n",
      "2.58 s ± 71 ms per loop (mean ± std. dev. of 7 runs, 1 loop each)\n"
     ]
    }
   ],
   "source": [
    "%timeit t = read_h5ad('sparse.h5ad')\n",
    "\n",
    "%timeit p = read_h5ad('sparse_old.h5ad')"
   ]
  },
  {
   "cell_type": "code",
   "execution_count": null,
   "metadata": {},
   "outputs": [],
   "source": []
  }
 ],
 "metadata": {
  "kernelspec": {
   "display_name": "Python 3",
   "language": "python",
   "name": "python3"
  },
  "language_info": {
   "codemirror_mode": {
    "name": "ipython",
    "version": 3
   },
   "file_extension": ".py",
   "mimetype": "text/x-python",
   "name": "python",
   "nbconvert_exporter": "python",
   "pygments_lexer": "ipython3",
   "version": "3.6.6"
  }
 },
 "nbformat": 4,
 "nbformat_minor": 2
}
