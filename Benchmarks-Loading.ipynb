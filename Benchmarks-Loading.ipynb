{
 "cells": [
  {
   "cell_type": "code",
   "execution_count": 1,
   "metadata": {},
   "outputs": [],
   "source": [
    "import numpy as np\n",
    "import scipy as sp\n",
    "import scipy.sparse\n",
    "import loompy as lp\n",
    "\n",
    "from anndata import AnnData, read_h5ad"
   ]
  },
  {
   "cell_type": "code",
   "execution_count": 2,
   "metadata": {},
   "outputs": [],
   "source": [
    "%load_ext memory_profiler"
   ]
  },
  {
   "cell_type": "code",
   "execution_count": 3,
   "metadata": {},
   "outputs": [],
   "source": [
    "A = np.random.rand(20000, 2000)\n",
    "A[A<0.7]=0\n",
    "A = sp.sparse.csr_matrix(A)"
   ]
  },
  {
   "cell_type": "markdown",
   "metadata": {},
   "source": [
    "sparse_as_dense=True - stores sparse matrix as dense dataset"
   ]
  },
  {
   "cell_type": "code",
   "execution_count": 4,
   "metadata": {},
   "outputs": [
    {
     "name": "stdout",
     "output_type": "stream",
     "text": [
      "peak memory: 409.88 MiB, increment: 81.96 MiB\n"
     ]
    }
   ],
   "source": [
    "ad = AnnData(A)\n",
    "%memit ad.write('sparse_dense_dataset.h5ad', sparse_as_dense=True)"
   ]
  },
  {
   "cell_type": "code",
   "execution_count": 5,
   "metadata": {},
   "outputs": [
    {
     "name": "stdout",
     "output_type": "stream",
     "text": [
      "peak memory: 338.83 MiB, increment: 2.05 MiB\n"
     ]
    }
   ],
   "source": [
    "%memit ad.write('sparse_dataset.h5ad')"
   ]
  },
  {
   "cell_type": "code",
   "execution_count": 6,
   "metadata": {},
   "outputs": [
    {
     "name": "stdout",
     "output_type": "stream",
     "text": [
      "Converting to csc format\n",
      "peak memory: 551.21 MiB, increment: 216.82 MiB\n"
     ]
    }
   ],
   "source": [
    "%memit lp.create(\"sparse.loom\", A.transpose(),{},{})\n",
    "ds = lp.connect(\"sparse.loom\")"
   ]
  },
  {
   "cell_type": "code",
   "execution_count": 7,
   "metadata": {},
   "outputs": [
    {
     "name": "stdout",
     "output_type": "stream",
     "text": [
      "peak memory: 1222.09 MiB, increment: 881.21 MiB\n",
      "peak memory: 509.97 MiB, increment: 162.52 MiB\n",
      "peak memory: 648.64 MiB, increment: 205.52 MiB\n"
     ]
    }
   ],
   "source": [
    "%memit ds.layers[\"\"].sparse()\n",
    "\n",
    "%memit t = read_h5ad('sparse_dense_dataset.h5ad')\n",
    "\n",
    "%memit t = read_h5ad('sparse_dataset.h5ad')"
   ]
  },
  {
   "cell_type": "code",
   "execution_count": 8,
   "metadata": {},
   "outputs": [
    {
     "name": "stdout",
     "output_type": "stream",
     "text": [
      "2.49 s ± 19.5 ms per loop (mean ± std. dev. of 7 runs, 1 loop each)\n",
      "996 ms ± 45.9 ms per loop (mean ± std. dev. of 7 runs, 1 loop each)\n"
     ]
    }
   ],
   "source": [
    "%timeit t = read_h5ad('sparse_dense_dataset.h5ad')\n",
    "\n",
    "%timeit t = read_h5ad('sparse_dataset.h5ad')"
   ]
  },
  {
   "cell_type": "code",
   "execution_count": null,
   "metadata": {},
   "outputs": [],
   "source": []
  }
 ],
 "metadata": {
  "kernelspec": {
   "display_name": "Python 3",
   "language": "python",
   "name": "python3"
  },
  "language_info": {
   "codemirror_mode": {
    "name": "ipython",
    "version": 3
   },
   "file_extension": ".py",
   "mimetype": "text/x-python",
   "name": "python",
   "nbconvert_exporter": "python",
   "pygments_lexer": "ipython3",
   "version": "3.6.6"
  }
 },
 "nbformat": 4,
 "nbformat_minor": 2
}
