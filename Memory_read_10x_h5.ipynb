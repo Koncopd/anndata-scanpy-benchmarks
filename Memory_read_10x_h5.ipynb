{
 "cells": [
  {
   "cell_type": "code",
   "execution_count": 1,
   "metadata": {},
   "outputs": [],
   "source": [
    "import scanpy.api as sc"
   ]
  },
  {
   "cell_type": "code",
   "execution_count": 2,
   "metadata": {},
   "outputs": [],
   "source": [
    "%load_ext memory_profiler"
   ]
  },
  {
   "cell_type": "code",
   "execution_count": 3,
   "metadata": {},
   "outputs": [
    {
     "name": "stdout",
     "output_type": "stream",
     "text": [
      "Variable names are not unique. To make them unique, call `.var_names_make_unique`.\n",
      "peak memory: 694.64 MiB, increment: 541.30 MiB\n",
      "Variable names are not unique. To make them unique, call `.var_names_make_unique`.\n",
      "peak memory: 1031.04 MiB, increment: 545.22 MiB\n"
     ]
    }
   ],
   "source": [
    "%memit adata = sc.read_10x_h5('1M_neurons_neuron20k.h5')\n",
    "%memit adata1 = sc.read_10x_h5('hgmm_12k_raw_gene_bc_matrices_h5.h5')"
   ]
  },
  {
   "cell_type": "code",
   "execution_count": 4,
   "metadata": {},
   "outputs": [
    {
     "name": "stdout",
     "output_type": "stream",
     "text": [
      "peak memory: 766.59 MiB, increment: 3.74 MiB\n",
      "peak memory: 802.71 MiB, increment: 36.11 MiB\n"
     ]
    }
   ],
   "source": [
    "%memit adata.write('1M_neurons_neuron20k.h5ad')\n",
    "%memit adata1.write('hgmm_12k_raw_gene_bc_matrices_h5.h5ad')"
   ]
  },
  {
   "cell_type": "code",
   "execution_count": 5,
   "metadata": {},
   "outputs": [
    {
     "name": "stdout",
     "output_type": "stream",
     "text": [
      "Variable names are not unique. To make them unique, call `.var_names_make_unique`.\n",
      "peak memory: 1466.11 MiB, increment: 699.10 MiB\n",
      "Variable names are not unique. To make them unique, call `.var_names_make_unique`.\n",
      "peak memory: 1222.45 MiB, increment: 452.56 MiB\n"
     ]
    }
   ],
   "source": [
    "%memit adata = sc.read('1M_neurons_neuron20k.h5ad')\n",
    "%memit adata1 = sc.read('hgmm_12k_raw_gene_bc_matrices_h5.h5ad')"
   ]
  },
  {
   "cell_type": "code",
   "execution_count": null,
   "metadata": {},
   "outputs": [],
   "source": []
  }
 ],
 "metadata": {
  "kernelspec": {
   "display_name": "Python 3",
   "language": "python",
   "name": "python3"
  },
  "language_info": {
   "codemirror_mode": {
    "name": "ipython",
    "version": 3
   },
   "file_extension": ".py",
   "mimetype": "text/x-python",
   "name": "python",
   "nbconvert_exporter": "python",
   "pygments_lexer": "ipython3",
   "version": "3.6.5"
  }
 },
 "nbformat": 4,
 "nbformat_minor": 2
}
