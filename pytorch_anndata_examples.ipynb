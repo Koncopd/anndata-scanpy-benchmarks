{
 "cells": [
  {
   "cell_type": "code",
   "execution_count": 36,
   "metadata": {},
   "outputs": [],
   "source": [
    "import torch\n",
    "from torch.utils.data import SequentialSampler\n",
    "\n",
    "import numpy as np\n",
    "from anndata import AnnData\n",
    "from anndata._torch import AnnDataSet, AnnDataLoader, split_into_datasets"
   ]
  },
  {
   "cell_type": "code",
   "execution_count": 37,
   "metadata": {},
   "outputs": [],
   "source": [
    "n_obs = 101\n",
    "\n",
    "obsm = {'X_repr': np.random.randn(n_obs, 5)}\n",
    "layers = {'Lay': np.random.randn(n_obs, 10)}\n",
    "obs = {'label': np.random.binomial(1, 0.5, n_obs)}\n",
    "\n",
    "adata = AnnData(X=np.random.randn(101, 10), obsm=obsm, layers=layers, obs=obs)"
   ]
  },
  {
   "cell_type": "markdown",
   "metadata": {},
   "source": [
    "### AnnData to Dataset"
   ]
  },
  {
   "cell_type": "code",
   "execution_count": 38,
   "metadata": {},
   "outputs": [],
   "source": [
    "dataset = AnnDataSet(adata, label_key='label')"
   ]
  },
  {
   "cell_type": "code",
   "execution_count": 39,
   "metadata": {},
   "outputs": [],
   "source": [
    "# or\n",
    "dataset = AnnDataSet(adata, obsm='X_repr', label_key='label')"
   ]
  },
  {
   "cell_type": "code",
   "execution_count": 40,
   "metadata": {},
   "outputs": [],
   "source": [
    "# or\n",
    "dataset = AnnDataSet(adata, layer='Lay', label_key='label')"
   ]
  },
  {
   "cell_type": "code",
   "execution_count": 41,
   "metadata": {},
   "outputs": [],
   "source": [
    "# you can pass any argument of torch.utils.data.DataLoader\n",
    "# uses custom default sampler if batch_size > 1 to get proper batches instead of concatenated separate indices\n",
    "dloader = AnnDataLoader(dataset, batch_size=32, shuffle=True)"
   ]
  },
  {
   "cell_type": "markdown",
   "metadata": {},
   "source": [
    "### AnnDataLoader directly from AnnData"
   ]
  },
  {
   "cell_type": "code",
   "execution_count": 42,
   "metadata": {},
   "outputs": [],
   "source": [
    "# you can pass any argument of torch.utils.data.DataLoader and AnnDataSet\n",
    "dloader = AnnDataLoader(adata, batch_size=32, shuffle=True, layer='Lay', label_key='label')"
   ]
  },
  {
   "cell_type": "code",
   "execution_count": 43,
   "metadata": {},
   "outputs": [],
   "source": [
    "for batch in dloader:\n",
    "    pass"
   ]
  },
  {
   "cell_type": "code",
   "execution_count": 44,
   "metadata": {},
   "outputs": [],
   "source": [
    "# set different sampler, for example\n",
    "dloader = AnnDataLoader(dataset, batch_size=32, sampler=SequentialSampler(dataset))\n",
    "# or\n",
    "dloader = AnnDataLoader(adata, batch_size=32, layer='Lay', label_key='label', sampler=SequentialSampler(dataset))"
   ]
  },
  {
   "cell_type": "markdown",
   "metadata": {},
   "source": [
    "### Split adata into datasets"
   ]
  },
  {
   "cell_type": "code",
   "execution_count": 45,
   "metadata": {},
   "outputs": [],
   "source": [
    "adata.obs['split'] = 'train'\n",
    "adata.obs.loc[-40:, 'split'] = 'test'"
   ]
  },
  {
   "cell_type": "code",
   "execution_count": 48,
   "metadata": {},
   "outputs": [],
   "source": [
    "# you can pass any argument of AnnDataSet\n",
    "datasets = split_into_datasets(adata, obsm='X_repr', label_key='label')"
   ]
  },
  {
   "cell_type": "code",
   "execution_count": 53,
   "metadata": {},
   "outputs": [
    {
     "data": {
      "text/plain": [
       "{'train': <anndata._torch.interface.AnnDataSet at 0x57020b8>,\n",
       " 'test': <anndata._torch.interface.AnnDataSet at 0x5577470>}"
      ]
     },
     "execution_count": 53,
     "metadata": {},
     "output_type": "execute_result"
    }
   ],
   "source": [
    "datasets"
   ]
  },
  {
   "cell_type": "code",
   "execution_count": null,
   "metadata": {},
   "outputs": [],
   "source": [
    "train_loader = AnnDataLoader(datasets['tarin'], batch_size=32, shuffle=True)"
   ]
  }
 ],
 "metadata": {
  "kernelspec": {
   "display_name": "Python 3",
   "language": "python",
   "name": "python3"
  },
  "language_info": {
   "codemirror_mode": {
    "name": "ipython",
    "version": 3
   },
   "file_extension": ".py",
   "mimetype": "text/x-python",
   "name": "python",
   "nbconvert_exporter": "python",
   "pygments_lexer": "ipython3",
   "version": "3.6.10"
  }
 },
 "nbformat": 4,
 "nbformat_minor": 4
}
