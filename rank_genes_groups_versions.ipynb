{
 "cells": [
  {
   "cell_type": "code",
   "execution_count": 1,
   "metadata": {},
   "outputs": [],
   "source": [
    "import scanpy as sc\n",
    "import pandas as pd\n",
    "#from scanpy.tools._rank_genes_groups import rank_genes_groups2\n",
    "import numpy as np\n",
    "from scanpy.tools._rank_genes_groups import RankSum\n",
    "from scipy.stats import rankdata\n",
    "from scipy.sparse import issparse, vstack"
   ]
  },
  {
   "cell_type": "code",
   "execution_count": 2,
   "metadata": {},
   "outputs": [],
   "source": [
    "%load_ext line_profiler\n",
    "%load_ext memory_profiler"
   ]
  },
  {
   "cell_type": "code",
   "execution_count": 3,
   "metadata": {},
   "outputs": [],
   "source": [
    "adata = sc.read('data/pancreas.h5ad', backup_url='https://www.dropbox.com/s/qj1jlm9w10wmt0u/pancreas.h5ad?dl=1')"
   ]
  },
  {
   "cell_type": "markdown",
   "metadata": {},
   "source": [
    "wilx_new=True - new version"
   ]
  },
  {
   "cell_type": "markdown",
   "metadata": {},
   "source": [
    "sparse"
   ]
  },
  {
   "cell_type": "code",
   "execution_count": 4,
   "metadata": {},
   "outputs": [
    {
     "name": "stdout",
     "output_type": "stream",
     "text": [
      "peak memory: 1269.90 MiB, increment: 516.83 MiB\n"
     ]
    }
   ],
   "source": [
    "%%memit\n",
    "sc.tl.rank_genes_groups(adata, 'celltype', method='wilcoxon')"
   ]
  },
  {
   "cell_type": "code",
   "execution_count": 5,
   "metadata": {},
   "outputs": [
    {
     "name": "stdout",
     "output_type": "stream",
     "text": [
      "peak memory: 1209.42 MiB, increment: 439.84 MiB\n"
     ]
    }
   ],
   "source": [
    "%%memit\n",
    "sc.tl.rank_genes_groups(adata, 'celltype', method='wilcoxon', wilx_new=True)"
   ]
  },
  {
   "cell_type": "code",
   "execution_count": 7,
   "metadata": {},
   "outputs": [
    {
     "name": "stdout",
     "output_type": "stream",
     "text": [
      "Wall time: 44.6 s\n"
     ]
    }
   ],
   "source": [
    "%%time\n",
    "sc.tl.rank_genes_groups(adata, 'celltype', method='wilcoxon')"
   ]
  },
  {
   "cell_type": "code",
   "execution_count": 8,
   "metadata": {},
   "outputs": [
    {
     "name": "stdout",
     "output_type": "stream",
     "text": [
      "Wall time: 36.8 s\n"
     ]
    }
   ],
   "source": [
    "%%time\n",
    "sc.tl.rank_genes_groups(adata, 'celltype', method='wilcoxon', wilx_new=True)"
   ]
  },
  {
   "cell_type": "markdown",
   "metadata": {},
   "source": [
    "dense"
   ]
  },
  {
   "cell_type": "code",
   "execution_count": 13,
   "metadata": {},
   "outputs": [
    {
     "name": "stderr",
     "output_type": "stream",
     "text": [
      "d:\\users\\sergei.rybakov\\projects\\scanpy\\scanpy\\tools\\_rank_genes_groups.py:290: RuntimeWarning: invalid value encountered in log2\n",
      "  foldchanges[global_indices]\n"
     ]
    },
    {
     "name": "stdout",
     "output_type": "stream",
     "text": [
      "peak memory: 1385.06 MiB, increment: 449.69 MiB\n"
     ]
    }
   ],
   "source": [
    "%%memit\n",
    "sc.tl.rank_genes_groups(adata, 'celltype', method='wilcoxon', use_raw=False)"
   ]
  },
  {
   "cell_type": "code",
   "execution_count": 14,
   "metadata": {},
   "outputs": [
    {
     "name": "stderr",
     "output_type": "stream",
     "text": [
      "d:\\users\\sergei.rybakov\\projects\\scanpy\\scanpy\\tools\\_rank_genes_groups.py:461: RuntimeWarning: invalid value encountered in log2\n",
      "  foldchanges[global_indices]\n"
     ]
    },
    {
     "name": "stdout",
     "output_type": "stream",
     "text": [
      "peak memory: 1262.42 MiB, increment: 327.22 MiB\n"
     ]
    }
   ],
   "source": [
    "%%memit\n",
    "sc.tl.rank_genes_groups(adata, 'celltype', method='wilcoxon', use_raw=False, wilx_new=True)"
   ]
  },
  {
   "cell_type": "code",
   "execution_count": 15,
   "metadata": {},
   "outputs": [
    {
     "name": "stdout",
     "output_type": "stream",
     "text": [
      "Wall time: 8.37 s\n"
     ]
    }
   ],
   "source": [
    "%%time\n",
    "sc.tl.rank_genes_groups(adata, 'celltype', method='wilcoxon', use_raw=False)"
   ]
  },
  {
   "cell_type": "code",
   "execution_count": 16,
   "metadata": {},
   "outputs": [
    {
     "name": "stdout",
     "output_type": "stream",
     "text": [
      "Wall time: 7.57 s\n"
     ]
    }
   ],
   "source": [
    "%%time\n",
    "sc.tl.rank_genes_groups(adata, 'celltype', method='wilcoxon', use_raw=False, wilx_new=True)"
   ]
  },
  {
   "cell_type": "markdown",
   "metadata": {},
   "source": [
    "With reference"
   ]
  },
  {
   "cell_type": "markdown",
   "metadata": {},
   "source": [
    "sparse"
   ]
  },
  {
   "cell_type": "code",
   "execution_count": 9,
   "metadata": {},
   "outputs": [
    {
     "name": "stdout",
     "output_type": "stream",
     "text": [
      "peak memory: 1492.00 MiB, increment: 548.16 MiB\n"
     ]
    }
   ],
   "source": [
    "%%memit\n",
    "sc.tl.rank_genes_groups(adata, 'celltype', method='wilcoxon', reference='acinar')"
   ]
  },
  {
   "cell_type": "code",
   "execution_count": 10,
   "metadata": {},
   "outputs": [
    {
     "name": "stdout",
     "output_type": "stream",
     "text": [
      "peak memory: 1190.35 MiB, increment: 254.98 MiB\n"
     ]
    }
   ],
   "source": [
    "%%memit\n",
    "sc.tl.rank_genes_groups(adata, 'celltype', method='wilcoxon', reference='acinar', wilx_new=True)"
   ]
  },
  {
   "cell_type": "code",
   "execution_count": 11,
   "metadata": {},
   "outputs": [
    {
     "name": "stdout",
     "output_type": "stream",
     "text": [
      "Wall time: 1min 25s\n"
     ]
    }
   ],
   "source": [
    "%%time\n",
    "sc.tl.rank_genes_groups(adata, 'celltype', method='wilcoxon', reference='acinar')"
   ]
  },
  {
   "cell_type": "code",
   "execution_count": 12,
   "metadata": {},
   "outputs": [
    {
     "name": "stdout",
     "output_type": "stream",
     "text": [
      "Wall time: 1min 45s\n"
     ]
    }
   ],
   "source": [
    "%%time\n",
    "sc.tl.rank_genes_groups(adata, 'celltype', method='wilcoxon', reference='acinar', wilx_new=True)"
   ]
  },
  {
   "cell_type": "markdown",
   "metadata": {},
   "source": [
    "dense"
   ]
  },
  {
   "cell_type": "code",
   "execution_count": 17,
   "metadata": {},
   "outputs": [
    {
     "name": "stderr",
     "output_type": "stream",
     "text": [
      "d:\\users\\sergei.rybakov\\projects\\scanpy\\scanpy\\tools\\_rank_genes_groups.py:227: RuntimeWarning: invalid value encountered in log2\n",
      "  foldchanges[global_indices]\n"
     ]
    },
    {
     "name": "stdout",
     "output_type": "stream",
     "text": [
      "peak memory: 1405.42 MiB, increment: 463.06 MiB\n"
     ]
    }
   ],
   "source": [
    "%%memit\n",
    "sc.tl.rank_genes_groups(adata, 'celltype', method='wilcoxon', reference='acinar', use_raw=False)"
   ]
  },
  {
   "cell_type": "code",
   "execution_count": 18,
   "metadata": {},
   "outputs": [
    {
     "name": "stderr",
     "output_type": "stream",
     "text": [
      "d:\\users\\sergei.rybakov\\projects\\scanpy\\scanpy\\tools\\_rank_genes_groups.py:399: RuntimeWarning: invalid value encountered in log2\n",
      "  foldchanges[global_indices]\n"
     ]
    },
    {
     "name": "stdout",
     "output_type": "stream",
     "text": [
      "peak memory: 1088.26 MiB, increment: 145.23 MiB\n"
     ]
    }
   ],
   "source": [
    "%%memit\n",
    "sc.tl.rank_genes_groups(adata, 'celltype', method='wilcoxon', reference='acinar', use_raw=False, wilx_new=True)"
   ]
  },
  {
   "cell_type": "code",
   "execution_count": 19,
   "metadata": {},
   "outputs": [
    {
     "name": "stdout",
     "output_type": "stream",
     "text": [
      "Wall time: 8.29 s\n"
     ]
    }
   ],
   "source": [
    "%%time\n",
    "sc.tl.rank_genes_groups(adata, 'celltype', method='wilcoxon', reference='acinar', use_raw=False)"
   ]
  },
  {
   "cell_type": "code",
   "execution_count": 20,
   "metadata": {},
   "outputs": [
    {
     "name": "stdout",
     "output_type": "stream",
     "text": [
      "Wall time: 9.28 s\n"
     ]
    }
   ],
   "source": [
    "%%time\n",
    "sc.tl.rank_genes_groups(adata, 'celltype', method='wilcoxon', reference='acinar', use_raw=False, wilx_new=True)"
   ]
  },
  {
   "cell_type": "code",
   "execution_count": null,
   "metadata": {},
   "outputs": [],
   "source": []
  }
 ],
 "metadata": {
  "kernelspec": {
   "display_name": "Python 3",
   "language": "python",
   "name": "python3"
  },
  "language_info": {
   "codemirror_mode": {
    "name": "ipython",
    "version": 3
   },
   "file_extension": ".py",
   "mimetype": "text/x-python",
   "name": "python",
   "nbconvert_exporter": "python",
   "pygments_lexer": "ipython3",
   "version": "3.6.10"
  }
 },
 "nbformat": 4,
 "nbformat_minor": 4
}
