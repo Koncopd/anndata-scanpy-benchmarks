{
 "cells": [
  {
   "cell_type": "code",
   "execution_count": 1,
   "metadata": {},
   "outputs": [],
   "source": [
    "import numpy as np\n",
    "import scanpy as sc\n",
    "import anndata as ad\n",
    "from anndata._core.concat_obs import AnnDataConcatObs\n",
    "from sklearn.model_selection import train_test_split"
   ]
  },
  {
   "cell_type": "code",
   "execution_count": 2,
   "metadata": {},
   "outputs": [],
   "source": [
    "adata_ref = sc.datasets.pbmc3k_processed()\n",
    "adata = sc.datasets.pbmc68k_reduced()"
   ]
  },
  {
   "cell_type": "code",
   "execution_count": 3,
   "metadata": {},
   "outputs": [],
   "source": [
    "var_names = adata_ref.var_names.intersection(adata.var_names)\n",
    "adata_ref = adata_ref[:, var_names]\n",
    "adata = adata[:, var_names]"
   ]
  },
  {
   "cell_type": "code",
   "execution_count": 4,
   "metadata": {},
   "outputs": [],
   "source": [
    "adata_ref.write('data/pbmc_procs.h5ad')\n",
    "adata.write('data/pbmc_reduc.h5ad')"
   ]
  },
  {
   "cell_type": "code",
   "execution_count": null,
   "metadata": {},
   "outputs": [],
   "source": []
  },
  {
   "cell_type": "code",
   "execution_count": 2,
   "metadata": {},
   "outputs": [],
   "source": [
    "adata1 = sc.read('data/pbmc_procs.h5ad', backed='r')\n",
    "adata2 = sc.read('data/pbmc_reduc.h5ad', backed='r')"
   ]
  },
  {
   "cell_type": "code",
   "execution_count": 3,
   "metadata": {},
   "outputs": [],
   "source": [
    "adconcat = AnnDataConcatObs((adata1, adata2))"
   ]
  },
  {
   "cell_type": "code",
   "execution_count": 18,
   "metadata": {},
   "outputs": [
    {
     "data": {
      "text/plain": [
       "Index(['AAACATACAACCAC-1', 'AAACATTGAGCTAC-1', 'AAACATTGATCAGC-1',\n",
       "       'AAACCGTGCTTCCG-1', 'AAACCGTGTATGCG-1', 'AAACGCACTGGTAC-1',\n",
       "       'AAACGCTGACCAGT-1', 'AAACGCTGGTTCTT-1', 'AAACGCTGTAGCCA-1',\n",
       "       'AAACGCTGTTTCTG-1',\n",
       "       ...\n",
       "       'TCTGATACGGTCTA-8', 'TGACGCCTCTCAGA-8', 'TGACTTACGGTCTA-8',\n",
       "       'TGCACAGATGCATG-8', 'TGGAGACTAGTAGA-8', 'TGGCACCTCCAACA-8',\n",
       "       'TGTGAGTGCTTTAC-8', 'TGTTACTGGCGATT-8', 'TTCAGTACCGGGAA-8',\n",
       "       'TTGAGGTGGAGAGC-8'],\n",
       "      dtype='object', name='index', length=3338)"
      ]
     },
     "execution_count": 18,
     "metadata": {},
     "output_type": "execute_result"
    }
   ],
   "source": [
    "adconcat.obs_names"
   ]
  },
  {
   "cell_type": "code",
   "execution_count": 19,
   "metadata": {},
   "outputs": [],
   "source": [
    "adconcat.obs['some'] = 'test'"
   ]
  },
  {
   "cell_type": "code",
   "execution_count": 20,
   "metadata": {},
   "outputs": [
    {
     "data": {
      "text/plain": [
       "AnnDataConcatObs object with n_obs × n_vars = 3338 × 208\n",
       "    view of obs: 'n_genes', 'percent_mito', 'n_counts', 'louvain'\n",
       "    view of obsm: 'X_pca', 'X_umap'\n",
       "    obs: 'some'"
      ]
     },
     "execution_count": 20,
     "metadata": {},
     "output_type": "execute_result"
    }
   ],
   "source": [
    "adconcat"
   ]
  },
  {
   "cell_type": "code",
   "execution_count": 24,
   "metadata": {},
   "outputs": [],
   "source": [
    "train, test = train_test_split(adconcat)"
   ]
  },
  {
   "cell_type": "code",
   "execution_count": 25,
   "metadata": {},
   "outputs": [
    {
     "data": {
      "text/plain": [
       "AnnDataConcatView object with n_obs × n_vars = 2503 × 208\n",
       "    obs: 'n_genes', 'percent_mito', 'n_counts', 'louvain'\n",
       "    obsm: 'X_pca', 'X_umap'"
      ]
     },
     "execution_count": 25,
     "metadata": {},
     "output_type": "execute_result"
    }
   ],
   "source": [
    "train"
   ]
  },
  {
   "cell_type": "code",
   "execution_count": 26,
   "metadata": {},
   "outputs": [
    {
     "data": {
      "text/plain": [
       "AnnDataConcatView object with n_obs × n_vars = 835 × 208\n",
       "    obs: 'n_genes', 'percent_mito', 'n_counts', 'louvain'\n",
       "    obsm: 'X_pca', 'X_umap'"
      ]
     },
     "execution_count": 26,
     "metadata": {},
     "output_type": "execute_result"
    }
   ],
   "source": [
    "test"
   ]
  },
  {
   "cell_type": "code",
   "execution_count": 27,
   "metadata": {},
   "outputs": [
    {
     "data": {
      "text/plain": [
       "array([[-0.19186915, -0.3662845 , -0.4795696 , ...,  2.439416  ,\n",
       "        -0.21115054, -0.5314618 ],\n",
       "       [-0.191     ,  1.413     , -0.459     , ...,  0.456     ,\n",
       "        -0.21      , -0.636     ],\n",
       "       [-0.191     , -0.531     , -0.459     , ...,  2.196     ,\n",
       "         2.888     , -0.636     ],\n",
       "       ...,\n",
       "       [ 0.02062162, -0.14415011, -0.2994842 , ..., -0.36192727,\n",
       "        -0.21194017, -0.54322195],\n",
       "       [-0.28987268, -0.3957008 , -0.357915  , ..., -0.48855352,\n",
       "         4.020897  , -0.49408507],\n",
       "       [-0.2491769 , -0.38216922, -0.40474176, ..., -0.5094171 ,\n",
       "        -0.18134984, -0.5090297 ]], dtype=float32)"
      ]
     },
     "execution_count": 27,
     "metadata": {},
     "output_type": "execute_result"
    }
   ],
   "source": [
    "train.X"
   ]
  },
  {
   "cell_type": "code",
   "execution_count": 28,
   "metadata": {},
   "outputs": [
    {
     "data": {
      "text/plain": [
       "array(['CD14+ Monocytes', '10', '0', ..., 'CD4 T cells',\n",
       "       'CD14+ Monocytes', 'CD14+ Monocytes'], dtype=object)"
      ]
     },
     "execution_count": 28,
     "metadata": {},
     "output_type": "execute_result"
    }
   ],
   "source": [
    "train.obs['louvain']"
   ]
  },
  {
   "cell_type": "code",
   "execution_count": 29,
   "metadata": {},
   "outputs": [],
   "source": [
    "dat = train[:100, :10]"
   ]
  },
  {
   "cell_type": "code",
   "execution_count": 30,
   "metadata": {},
   "outputs": [
    {
     "data": {
      "text/plain": [
       "AnnDataConcatView object with n_obs × n_vars = 100 × 10\n",
       "    obs: 'n_genes', 'percent_mito', 'n_counts', 'louvain'\n",
       "    obsm: 'X_pca', 'X_umap'"
      ]
     },
     "execution_count": 30,
     "metadata": {},
     "output_type": "execute_result"
    }
   ],
   "source": [
    "dat"
   ]
  }
 ],
 "metadata": {
  "kernelspec": {
   "display_name": "Python 3",
   "language": "python",
   "name": "python3"
  },
  "language_info": {
   "codemirror_mode": {
    "name": "ipython",
    "version": 3
   },
   "file_extension": ".py",
   "mimetype": "text/x-python",
   "name": "python",
   "nbconvert_exporter": "python",
   "pygments_lexer": "ipython3",
   "version": "3.6.12"
  }
 },
 "nbformat": 4,
 "nbformat_minor": 4
}
